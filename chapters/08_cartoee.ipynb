{
  "cells": [
    {
      "cell_type": "markdown",
      "metadata": {
        "id": "QkP92S7YUt_D"
      },
      "source": [
        "# Making Maps with Cartoee\n",
        "\n",
        "```{contents}\n",
        ":local:\n",
        ":depth: 2\n",
        "```\n",
        "\n",
        "## Introduction\n",
        "\n",
        "## Technical requirements\n",
        "\n",
        "```bash\n",
        "conda create -n gee python\n",
        "conda activate gee\n",
        "conda install -c conda-forge mamba\n",
        "mamba install -c conda-forge geemap pygis\n",
        "mamba install -c conda-forge cartopy\n",
        "```\n",
        "\n",
        "```bash\n",
        "jupyter lab\n",
        "```"
      ],
      "id": "QkP92S7YUt_D"
    },
    {
      "cell_type": "code",
      "execution_count": null,
      "metadata": {
        "id": "4SNlFvguUt_H"
      },
      "outputs": [],
      "source": [
        "# %pip install pygis"
      ],
      "id": "4SNlFvguUt_H"
    },
    {
      "cell_type": "code",
      "execution_count": null,
      "metadata": {
        "id": "OebxQ2EKUt_J"
      },
      "outputs": [],
      "source": [
        "# %pip install cartopy"
      ],
      "id": "OebxQ2EKUt_J"
    },
    {
      "cell_type": "code",
      "execution_count": 1,
      "metadata": {
        "id": "roswuWVQUt_J"
      },
      "outputs": [],
      "source": [
        "import ee\n",
        "import geemap"
      ],
      "id": "roswuWVQUt_J"
    },
    {
      "cell_type": "code",
      "execution_count": 3,
      "metadata": {
        "id": "4BSYwxBvUt_J",
        "outputId": "264fcc7e-9f3f-47f4-8914-6a81d063cb31",
        "colab": {
          "base_uri": "https://localhost:8080/",
          "height": 17
        }
      },
      "outputs": [
        {
          "output_type": "display_data",
          "data": {
            "text/plain": [
              "<IPython.core.display.HTML object>"
            ],
            "text/html": [
              "\n",
              "            <style>\n",
              "                .geemap-dark {\n",
              "                    --jp-widgets-color: white;\n",
              "                    --jp-widgets-label-color: white;\n",
              "                    --jp-ui-font-color1: white;\n",
              "                    --jp-layout-color2: #454545;\n",
              "                    background-color: #383838;\n",
              "                }\n",
              "\n",
              "                .geemap-dark .jupyter-button {\n",
              "                    --jp-layout-color3: #383838;\n",
              "                }\n",
              "\n",
              "                .geemap-colab {\n",
              "                    background-color: var(--colab-primary-surface-color, white);\n",
              "                }\n",
              "\n",
              "                .geemap-colab .jupyter-button {\n",
              "                    --jp-layout-color3: var(--colab-primary-surface-color, white);\n",
              "                }\n",
              "            </style>\n",
              "            "
            ]
          },
          "metadata": {}
        }
      ],
      "source": [
        "geemap.ee_initialize(project=\"ee-zjwzengjianwen959\")"
      ],
      "id": "4BSYwxBvUt_J"
    },
    {
      "cell_type": "code",
      "execution_count": 11,
      "metadata": {
        "id": "P8FKquOVUt_K",
        "outputId": "aa6fb629-9208-4b00-e8b4-53dd8e8f64f0",
        "colab": {
          "base_uri": "https://localhost:8080/",
          "height": 17
        }
      },
      "outputs": [
        {
          "output_type": "display_data",
          "data": {
            "text/plain": [
              "<IPython.core.display.HTML object>"
            ],
            "text/html": [
              "\n",
              "            <style>\n",
              "                .geemap-dark {\n",
              "                    --jp-widgets-color: white;\n",
              "                    --jp-widgets-label-color: white;\n",
              "                    --jp-ui-font-color1: white;\n",
              "                    --jp-layout-color2: #454545;\n",
              "                    background-color: #383838;\n",
              "                }\n",
              "\n",
              "                .geemap-dark .jupyter-button {\n",
              "                    --jp-layout-color3: #383838;\n",
              "                }\n",
              "\n",
              "                .geemap-colab {\n",
              "                    background-color: var(--colab-primary-surface-color, white);\n",
              "                }\n",
              "\n",
              "                .geemap-colab .jupyter-button {\n",
              "                    --jp-layout-color3: var(--colab-primary-surface-color, white);\n",
              "                }\n",
              "            </style>\n",
              "            "
            ]
          },
          "metadata": {}
        }
      ],
      "source": [
        "from geemap import cartoee\n",
        "import matplotlib.pyplot as plt\n",
        "import cartopy.crs as ccrs"
      ],
      "id": "P8FKquOVUt_K"
    },
    {
      "cell_type": "markdown",
      "metadata": {
        "id": "exwyg2SNUt_K"
      },
      "source": [
        "## Plotting single-band images"
      ],
      "id": "exwyg2SNUt_K"
    },
    {
      "cell_type": "code",
      "execution_count": 12,
      "metadata": {
        "id": "1e9qAZBZUt_L",
        "outputId": "769428e8-9367-4285-ad15-70e92b9874eb",
        "colab": {
          "base_uri": "https://localhost:8080/",
          "height": 17
        }
      },
      "outputs": [
        {
          "output_type": "display_data",
          "data": {
            "text/plain": [
              "<IPython.core.display.HTML object>"
            ],
            "text/html": [
              "\n",
              "            <style>\n",
              "                .geemap-dark {\n",
              "                    --jp-widgets-color: white;\n",
              "                    --jp-widgets-label-color: white;\n",
              "                    --jp-ui-font-color1: white;\n",
              "                    --jp-layout-color2: #454545;\n",
              "                    background-color: #383838;\n",
              "                }\n",
              "\n",
              "                .geemap-dark .jupyter-button {\n",
              "                    --jp-layout-color3: #383838;\n",
              "                }\n",
              "\n",
              "                .geemap-colab {\n",
              "                    background-color: var(--colab-primary-surface-color, white);\n",
              "                }\n",
              "\n",
              "                .geemap-colab .jupyter-button {\n",
              "                    --jp-layout-color3: var(--colab-primary-surface-color, white);\n",
              "                }\n",
              "            </style>\n",
              "            "
            ]
          },
          "metadata": {}
        }
      ],
      "source": [
        "srtm = ee.Image(\"CGIAR/SRTM90_V4\")\n",
        "\n",
        "# define bounding box [east, south, west, north] to request data\n",
        "region = [180, -60, -180, 85]\n",
        "vis = {'min': 0, 'max': 3000}"
      ],
      "id": "1e9qAZBZUt_L"
    },
    {
      "cell_type": "code",
      "execution_count": 13,
      "metadata": {
        "id": "fW60SEMCUt_L",
        "outputId": "6685fc38-407a-4ed6-bd21-41f7374a8507",
        "colab": {
          "base_uri": "https://localhost:8080/",
          "height": 371
        }
      },
      "outputs": [
        {
          "output_type": "display_data",
          "data": {
            "text/plain": [
              "<IPython.core.display.HTML object>"
            ],
            "text/html": [
              "\n",
              "            <style>\n",
              "                .geemap-dark {\n",
              "                    --jp-widgets-color: white;\n",
              "                    --jp-widgets-label-color: white;\n",
              "                    --jp-ui-font-color1: white;\n",
              "                    --jp-layout-color2: #454545;\n",
              "                    background-color: #383838;\n",
              "                }\n",
              "\n",
              "                .geemap-dark .jupyter-button {\n",
              "                    --jp-layout-color3: #383838;\n",
              "                }\n",
              "\n",
              "                .geemap-colab {\n",
              "                    background-color: var(--colab-primary-surface-color, white);\n",
              "                }\n",
              "\n",
              "                .geemap-colab .jupyter-button {\n",
              "                    --jp-layout-color3: var(--colab-primary-surface-color, white);\n",
              "                }\n",
              "            </style>\n",
              "            "
            ]
          },
          "metadata": {}
        },
        {
          "output_type": "error",
          "ename": "NameError",
          "evalue": "name 'ccrs' is not defined",
          "traceback": [
            "\u001b[0;31m---------------------------------------------------------------------------\u001b[0m",
            "\u001b[0;31mNameError\u001b[0m                                 Traceback (most recent call last)",
            "\u001b[0;32m<ipython-input-13-4e69b6f4ac3b>\u001b[0m in \u001b[0;36m<cell line: 0>\u001b[0;34m()\u001b[0m\n\u001b[1;32m      2\u001b[0m \u001b[0;34m\u001b[0m\u001b[0m\n\u001b[1;32m      3\u001b[0m \u001b[0;31m# use cartoee to get a map\u001b[0m\u001b[0;34m\u001b[0m\u001b[0;34m\u001b[0m\u001b[0m\n\u001b[0;32m----> 4\u001b[0;31m \u001b[0max\u001b[0m \u001b[0;34m=\u001b[0m \u001b[0mcartoee\u001b[0m\u001b[0;34m.\u001b[0m\u001b[0mget_map\u001b[0m\u001b[0;34m(\u001b[0m\u001b[0msrtm\u001b[0m\u001b[0;34m,\u001b[0m \u001b[0mregion\u001b[0m\u001b[0;34m=\u001b[0m\u001b[0mregion\u001b[0m\u001b[0;34m,\u001b[0m \u001b[0mvis_params\u001b[0m\u001b[0;34m=\u001b[0m\u001b[0mvis\u001b[0m\u001b[0;34m)\u001b[0m\u001b[0;34m\u001b[0m\u001b[0;34m\u001b[0m\u001b[0m\n\u001b[0m\u001b[1;32m      5\u001b[0m \u001b[0;34m\u001b[0m\u001b[0m\n\u001b[1;32m      6\u001b[0m \u001b[0;31m# add a color bar to the map using the visualization params we passed to the map\u001b[0m\u001b[0;34m\u001b[0m\u001b[0;34m\u001b[0m\u001b[0m\n",
            "\u001b[0;32m/usr/local/lib/python3.11/dist-packages/geemap/cartoee.py\u001b[0m in \u001b[0;36mget_map\u001b[0;34m(ee_object, proj, basemap, zoom_level, **kwargs)\u001b[0m\n\u001b[1;32m    159\u001b[0m \u001b[0;34m\u001b[0m\u001b[0m\n\u001b[1;32m    160\u001b[0m     \u001b[0;32mif\u001b[0m \u001b[0mproj\u001b[0m \u001b[0;32mis\u001b[0m \u001b[0;32mNone\u001b[0m\u001b[0;34m:\u001b[0m\u001b[0;34m\u001b[0m\u001b[0;34m\u001b[0m\u001b[0m\n\u001b[0;32m--> 161\u001b[0;31m         \u001b[0mproj\u001b[0m \u001b[0;34m=\u001b[0m \u001b[0mccrs\u001b[0m\u001b[0;34m.\u001b[0m\u001b[0mPlateCarree\u001b[0m\u001b[0;34m(\u001b[0m\u001b[0;34m)\u001b[0m\u001b[0;34m\u001b[0m\u001b[0;34m\u001b[0m\u001b[0m\n\u001b[0m\u001b[1;32m    162\u001b[0m \u001b[0;34m\u001b[0m\u001b[0m\n\u001b[1;32m    163\u001b[0m     \u001b[0;32mif\u001b[0m \u001b[0;34m\"style\"\u001b[0m \u001b[0;32min\u001b[0m \u001b[0mkwargs\u001b[0m\u001b[0;34m:\u001b[0m\u001b[0;34m\u001b[0m\u001b[0;34m\u001b[0m\u001b[0m\n",
            "\u001b[0;31mNameError\u001b[0m: name 'ccrs' is not defined"
          ]
        },
        {
          "output_type": "display_data",
          "data": {
            "text/plain": [
              "<Figure size 1500x900 with 0 Axes>"
            ]
          },
          "metadata": {}
        }
      ],
      "source": [
        "fig = plt.figure(figsize=(15, 9))\n",
        "\n",
        "# use cartoee to get a map\n",
        "ax = cartoee.get_map(srtm, region=region, vis_params=vis)\n",
        "\n",
        "# add a color bar to the map using the visualization params we passed to the map\n",
        "cartoee.add_colorbar(ax, vis, loc=\"bottom\", label=\"Elevation (m)\", orientation=\"horizontal\")\n",
        "\n",
        "# add grid lines to the map at a specified interval\n",
        "cartoee.add_gridlines(ax, interval=[60, 30], linestyle=\":\")\n",
        "\n",
        "# add coastlines using the cartopy api\n",
        "ax.coastlines(color=\"red\")\n",
        "\n",
        "plt.show()"
      ],
      "id": "fW60SEMCUt_L"
    },
    {
      "cell_type": "code",
      "execution_count": null,
      "metadata": {
        "id": "jNfFvRWUUt_L"
      },
      "outputs": [],
      "source": [
        "fig = plt.figure(figsize=(15, 7))\n",
        "\n",
        "cmap = \"terrain\"\n",
        "\n",
        "ax = cartoee.get_map(srtm, region=region, vis_params=vis, cmap=cmap)\n",
        "cartoee.add_colorbar(\n",
        "    ax, vis, cmap=cmap, loc=\"right\", label=\"Elevation (m)\", orientation=\"vertical\"\n",
        ")\n",
        "\n",
        "cartoee.add_gridlines(ax, interval=[60, 30], linestyle=\"--\")\n",
        "ax.coastlines(color=\"red\")\n",
        "ax.set_title(label='Global Elevation Map', fontsize=15)\n",
        "\n",
        "plt.show()"
      ],
      "id": "jNfFvRWUUt_L"
    },
    {
      "cell_type": "code",
      "execution_count": null,
      "metadata": {
        "id": "JhEl3qhpUt_M"
      },
      "outputs": [],
      "source": [
        "cartoee.savefig(fig, fname=\"srtm.jpg\", dpi=300, bbox_inches='tight')"
      ],
      "id": "JhEl3qhpUt_M"
    },
    {
      "cell_type": "markdown",
      "metadata": {
        "id": "NHwGzteEUt_O"
      },
      "source": [
        "## Plotting multi-band images"
      ],
      "id": "NHwGzteEUt_O"
    },
    {
      "cell_type": "code",
      "execution_count": null,
      "metadata": {
        "id": "OepTICK8Ut_O"
      },
      "outputs": [],
      "source": [
        "image = ee.Image('LANDSAT/LC08/C01/T1_SR/LC08_044034_20140318')\n",
        "vis = {\"bands\": ['B5', 'B4', 'B3'], \"min\": 0, \"max\": 5000, \"gamma\": 1.3}"
      ],
      "id": "OepTICK8Ut_O"
    },
    {
      "cell_type": "code",
      "execution_count": null,
      "metadata": {
        "id": "9jHphzt8Ut_P"
      },
      "outputs": [],
      "source": [
        "fig = plt.figure(figsize=(15, 10))\n",
        "\n",
        "ax = cartoee.get_map(image, vis_params=vis)\n",
        "cartoee.pad_view(ax)\n",
        "cartoee.add_gridlines(ax, interval=0.5, xtick_rotation=0, linestyle=\":\")\n",
        "ax.coastlines(color=\"yellow\")\n",
        "\n",
        "plt.show()"
      ],
      "id": "9jHphzt8Ut_P"
    },
    {
      "cell_type": "code",
      "execution_count": null,
      "metadata": {
        "id": "1SrQcjsBUt_P"
      },
      "outputs": [],
      "source": [
        "fig = plt.figure(figsize=(15, 10))\n",
        "\n",
        "region = [-121.8025, 37.3458, -122.6265, 37.9178]\n",
        "ax = cartoee.get_map(image, vis_params=vis, region=region)\n",
        "cartoee.add_gridlines(ax, interval=0.15, xtick_rotation=0, linestyle=\":\")\n",
        "ax.coastlines(color=\"yellow\")\n",
        "\n",
        "plt.show()"
      ],
      "id": "1SrQcjsBUt_P"
    },
    {
      "cell_type": "markdown",
      "metadata": {
        "id": "fURO4QJIUt_P"
      },
      "source": [
        "## Adding north arrows and scale bars"
      ],
      "id": "fURO4QJIUt_P"
    },
    {
      "cell_type": "code",
      "execution_count": null,
      "metadata": {
        "id": "YS55GooqUt_P"
      },
      "outputs": [],
      "source": [
        "fig = plt.figure(figsize=(15, 10))\n",
        "\n",
        "region = [-121.8025, 37.3458, -122.6265, 37.9178]\n",
        "ax = cartoee.get_map(image, vis_params=vis, region=region)\n",
        "cartoee.add_gridlines(ax, interval=0.15, xtick_rotation=0, linestyle=\":\")\n",
        "ax.coastlines(color=\"yellow\")\n",
        "\n",
        "cartoee.add_north_arrow(\n",
        "    ax, text=\"N\", xy=(0.05, 0.25), text_color=\"white\", arrow_color=\"white\", fontsize=20\n",
        ")\n",
        "cartoee.add_scale_bar_lite(\n",
        "    ax, length=10, xy=(0.1, 0.05), fontsize=20, color=\"white\", unit=\"km\"\n",
        ")\n",
        "ax.set_title(label='Landsat False Color Composite (Band 5/4/3)', fontsize=15)\n",
        "\n",
        "plt.show()"
      ],
      "id": "YS55GooqUt_P"
    },
    {
      "cell_type": "code",
      "execution_count": null,
      "metadata": {
        "id": "gbIOEkKqUt_Q"
      },
      "outputs": [],
      "source": [
        "fig = plt.figure(figsize=(15, 10))\n",
        "\n",
        "region = [-121.8025, 37.3458, -122.6265, 37.9178]\n",
        "ax = cartoee.get_map(image, vis_params=vis, region=region)\n",
        "cartoee.add_gridlines(ax, interval=0.15, xtick_rotation=0, linestyle=\":\")\n",
        "ax.coastlines(color=\"yellow\")\n",
        "\n",
        "# add north arrow\n",
        "north_arrow_dict = {\n",
        "    \"text\": \"N\",\n",
        "    \"xy\": (0.05, 0.30),\n",
        "    \"arrow_length\": 0.10,\n",
        "    \"text_color\": \"white\",\n",
        "    \"arrow_color\": \"white\",\n",
        "    \"fontsize\": 20,\n",
        "    \"width\": 5,\n",
        "    \"headwidth\": 15,\n",
        "    \"ha\": \"center\",\n",
        "    \"va\": \"center\",\n",
        "}\n",
        "cartoee.add_north_arrow(ax, **north_arrow_dict)\n",
        "\n",
        "# add scale bar\n",
        "scale_bar_dict = {\n",
        "    'metric_distance': 4,\n",
        "    'unit': \"km\",\n",
        "    'at_x': (0.03, 0.15),\n",
        "    'at_y': (0.08, 0.11),\n",
        "    'max_stripes': 4,\n",
        "    'ytick_label_margins': 0.25,\n",
        "    'fontsize': 8,\n",
        "    'font_weight': \"bold\",\n",
        "    'rotation': 0,\n",
        "    'zorder': 999,\n",
        "    'paddings': {\"xmin\": 0.05, \"xmax\": 0.05, \"ymin\": 1.5, \"ymax\": 0.5},\n",
        "}\n",
        "\n",
        "cartoee.add_scale_bar(ax, **scale_bar_dict)\n",
        "ax.set_title(label='Landsat False Color Composite (Band 5/4/3)', fontsize=15)\n",
        "\n",
        "plt.show()"
      ],
      "id": "gbIOEkKqUt_Q"
    },
    {
      "cell_type": "code",
      "execution_count": null,
      "metadata": {
        "id": "HulKrJSgUt_Q"
      },
      "outputs": [],
      "source": [
        "cartoee.savefig(fig, fname=\"landsat.jpg\")"
      ],
      "id": "HulKrJSgUt_Q"
    },
    {
      "cell_type": "markdown",
      "metadata": {
        "id": "OHs0bywJUt_Q"
      },
      "source": [
        "## Adding legends"
      ],
      "id": "OHs0bywJUt_Q"
    },
    {
      "cell_type": "code",
      "execution_count": null,
      "metadata": {
        "id": "yHbKuORvUt_Q"
      },
      "outputs": [],
      "source": [
        "fuels = [\n",
        "    'Coal',\n",
        "    'Oil',\n",
        "    'Gas',\n",
        "    'Hydro',\n",
        "    'Nuclear',\n",
        "    'Solar',\n",
        "    'Waste',\n",
        "    'Wind',\n",
        "    'Geothermal',\n",
        "    'Biomass',\n",
        "]\n",
        "\n",
        "fc = ee.FeatureCollection(\"WRI/GPPD/power_plants\").filter(\n",
        "    ee.Filter.inList('fuel1', fuels)\n",
        ")\n",
        "\n",
        "colors = [\n",
        "    '000000',\n",
        "    '593704',\n",
        "    'BC80BD',\n",
        "    '0565A6',\n",
        "    'E31A1C',\n",
        "    'FF7F00',\n",
        "    '6A3D9A',\n",
        "    '5CA2D1',\n",
        "    'FDBF6F',\n",
        "    '229A00',\n",
        "]\n",
        "\n",
        "styled_fc = geemap.ee_vector_style(fc, column=\"fuel1\", labels=fuels, color=colors, pointSize=1)"
      ],
      "id": "yHbKuORvUt_Q"
    },
    {
      "cell_type": "code",
      "execution_count": null,
      "metadata": {
        "id": "hv_Jiu1QUt_Q"
      },
      "outputs": [],
      "source": [
        "Map = geemap.Map()\n",
        "Map.addLayer(styled_fc, {}, 'Power Plants')\n",
        "Map.add_legend(title=\"Power Plant Fuel Type\", labels=fuels, colors=colors)\n",
        "Map"
      ],
      "id": "hv_Jiu1QUt_Q"
    },
    {
      "cell_type": "code",
      "execution_count": null,
      "metadata": {
        "id": "nVPYXlKiUt_Q"
      },
      "outputs": [],
      "source": [
        "from matplotlib.lines import Line2D"
      ],
      "id": "nVPYXlKiUt_Q"
    },
    {
      "cell_type": "code",
      "execution_count": null,
      "metadata": {
        "id": "SiWnyQehUt_R"
      },
      "outputs": [],
      "source": [
        "legend = []\n",
        "\n",
        "for index, fuel in enumerate(fuels):\n",
        "    item = Line2D(\n",
        "                    [],\n",
        "                    [],\n",
        "                    marker=\"o\",\n",
        "                    color='#' + colors[index],\n",
        "                    label=fuel,\n",
        "                    markerfacecolor='#' + colors[index],\n",
        "                    markersize=5,\n",
        "                    ls=\"\",\n",
        "                )\n",
        "    legend.append(item)"
      ],
      "id": "SiWnyQehUt_R"
    },
    {
      "cell_type": "code",
      "execution_count": null,
      "metadata": {
        "id": "jHHj9_DLUt_R"
      },
      "outputs": [],
      "source": [
        "fig = plt.figure(figsize=(15, 10))\n",
        "\n",
        "bbox = [180, -88, -180, 88]\n",
        "ax = cartoee.get_map(styled_fc, region=bbox)\n",
        "ax.set_title(label='Global Power Plant Database', fontsize=15)\n",
        "cartoee.add_gridlines(ax, interval=30)\n",
        "cartoee.add_legend(ax, legend_elements=legend, font_size=10, title='Fule Type', title_fontize=12, loc='lower left')\n",
        "ax.coastlines(color=\"black\")\n",
        "\n",
        "plt.show()"
      ],
      "id": "jHHj9_DLUt_R"
    },
    {
      "cell_type": "code",
      "execution_count": null,
      "metadata": {
        "id": "jVesbChcUt_R"
      },
      "outputs": [],
      "source": [
        "cartoee.savefig(fig, 'ch08_power_plants.jpg', dpi=150)"
      ],
      "id": "jVesbChcUt_R"
    },
    {
      "cell_type": "markdown",
      "metadata": {
        "id": "iLi5Nka7Ut_R"
      },
      "source": [
        "## Adding basemaps"
      ],
      "id": "iLi5Nka7Ut_R"
    },
    {
      "cell_type": "code",
      "execution_count": null,
      "metadata": {
        "id": "QT3yyhIOUt_R"
      },
      "outputs": [],
      "source": [
        "image = ee.Image('LANDSAT/LC08/C01/T1_SR/LC08_044034_20140318')\n",
        "vis = {\"bands\": ['B5', 'B4', 'B3'], \"min\": 0, \"max\": 5000, \"gamma\": 1.3}\n",
        "\n",
        "fig = plt.figure(figsize=(15, 10))\n",
        "ax = cartoee.get_map(image, vis_params=vis, basemap='ROADMAP', zoom_level=8)\n",
        "cartoee.pad_view(ax)\n",
        "cartoee.add_gridlines(ax, interval=0.5, xtick_rotation=0, linestyle=\":\")\n",
        "ax.coastlines(color=\"yellow\")\n",
        "\n",
        "plt.show()"
      ],
      "id": "QT3yyhIOUt_R"
    },
    {
      "cell_type": "code",
      "execution_count": null,
      "metadata": {
        "id": "rF3vgOSwUt_S"
      },
      "outputs": [],
      "source": [
        "import cartopy.io.img_tiles as cimgt"
      ],
      "id": "rF3vgOSwUt_S"
    },
    {
      "cell_type": "code",
      "execution_count": null,
      "metadata": {
        "id": "suGmUfFZUt_S"
      },
      "outputs": [],
      "source": [
        "basemap = cimgt.Stamen('terrain-background')\n",
        "\n",
        "fig = plt.figure(figsize=(15, 10))\n",
        "\n",
        "ax = cartoee.get_map(image, vis_params=vis, basemap=basemap, zoom_level=8)\n",
        "cartoee.pad_view(ax)\n",
        "cartoee.add_gridlines(ax, interval=0.5, xtick_rotation=0, linestyle=\":\")\n",
        "ax.coastlines(color=\"yellow\")\n",
        "\n",
        "plt.show()"
      ],
      "id": "suGmUfFZUt_S"
    },
    {
      "cell_type": "code",
      "execution_count": null,
      "metadata": {
        "id": "0tBchv1fUt_S"
      },
      "outputs": [],
      "source": [
        "basemap = cimgt.OSM()\n",
        "\n",
        "fig = plt.figure(figsize=(15, 10))\n",
        "ax = cartoee.get_map(image, vis_params=vis, basemap=basemap, zoom_level=8)\n",
        "cartoee.pad_view(ax)\n",
        "cartoee.add_gridlines(ax, interval=0.5, xtick_rotation=0, linestyle=\":\")\n",
        "ax.coastlines(color=\"yellow\")\n",
        "\n",
        "plt.show()"
      ],
      "id": "0tBchv1fUt_S"
    },
    {
      "cell_type": "markdown",
      "metadata": {
        "id": "YtsOZ0IUUt_T"
      },
      "source": [
        "## Using custom projections\n",
        "\n",
        "### The PlateCarree projection"
      ],
      "id": "YtsOZ0IUUt_T"
    },
    {
      "cell_type": "code",
      "execution_count": null,
      "metadata": {
        "id": "clz-hn5yUt_T"
      },
      "outputs": [],
      "source": [
        "ocean = (\n",
        "    ee.ImageCollection('NASA/OCEANDATA/MODIS-Terra/L3SMI')\n",
        "    .filter(ee.Filter.date('2018-01-01', '2018-03-01'))\n",
        "    .median()\n",
        "    .select([\"sst\"], [\"SST\"])\n",
        ")"
      ],
      "id": "clz-hn5yUt_T"
    },
    {
      "cell_type": "code",
      "execution_count": null,
      "metadata": {
        "id": "k27PnDLWUt_T"
      },
      "outputs": [],
      "source": [
        "visualization = {'bands': \"SST\", 'min': -2, 'max': 30}\n",
        "bbox = [180, -88, -180, 88]"
      ],
      "id": "k27PnDLWUt_T"
    },
    {
      "cell_type": "code",
      "execution_count": null,
      "metadata": {
        "id": "TEXbW8kjUt_T"
      },
      "outputs": [],
      "source": [
        "fig = plt.figure(figsize=(15, 10))\n",
        "\n",
        "ax = cartoee.get_map(ocean, cmap='plasma', vis_params=visualization, region=bbox)\n",
        "cb = cartoee.add_colorbar(ax, vis_params=visualization, loc='right', cmap='plasma')\n",
        "\n",
        "ax.set_title(label='Sea Surface Temperature', fontsize=15)\n",
        "\n",
        "ax.coastlines()\n",
        "plt.show()"
      ],
      "id": "TEXbW8kjUt_T"
    },
    {
      "cell_type": "code",
      "execution_count": null,
      "metadata": {
        "id": "EAohe4UnUt_T"
      },
      "outputs": [],
      "source": [
        "cartoee.savefig(fig, 'SST.jpg', dpi=300)"
      ],
      "id": "EAohe4UnUt_T"
    },
    {
      "cell_type": "markdown",
      "metadata": {
        "id": "VgQbHrKuUt_U"
      },
      "source": [
        "### Custom projections"
      ],
      "id": "VgQbHrKuUt_U"
    },
    {
      "cell_type": "code",
      "execution_count": null,
      "metadata": {
        "id": "KaXGOvvZUt_U"
      },
      "outputs": [],
      "source": [
        "import cartopy.crs as ccrs"
      ],
      "id": "KaXGOvvZUt_U"
    },
    {
      "cell_type": "code",
      "execution_count": null,
      "metadata": {
        "id": "bsXZoFlCUt_U"
      },
      "outputs": [],
      "source": [
        "fig = plt.figure(figsize=(15, 10))\n",
        "\n",
        "projection = ccrs.Mollweide(central_longitude=-180)\n",
        "ax = cartoee.get_map(\n",
        "    ocean, vis_params=visualization, region=bbox, cmap='plasma', proj=projection\n",
        ")\n",
        "cb = cartoee.add_colorbar(\n",
        "    ax, vis_params=visualization, loc='bottom', cmap='plasma', orientation='horizontal'\n",
        ")\n",
        "ax.set_title(\"Mollweide projection\")\n",
        "ax.coastlines()\n",
        "\n",
        "plt.show()"
      ],
      "id": "bsXZoFlCUt_U"
    },
    {
      "cell_type": "code",
      "execution_count": null,
      "metadata": {
        "id": "f2T0q2mNUt_Z"
      },
      "outputs": [],
      "source": [
        "fig = plt.figure(figsize=(15, 10))\n",
        "\n",
        "projection = ccrs.Robinson(central_longitude=-180)\n",
        "ax = cartoee.get_map(\n",
        "    ocean, vis_params=visualization, region=bbox, cmap='plasma', proj=projection\n",
        ")\n",
        "cb = cartoee.add_colorbar(\n",
        "    ax, vis_params=visualization, loc='bottom', cmap='plasma', orientation='horizontal'\n",
        ")\n",
        "ax.set_title(\"Robinson projection\")\n",
        "ax.coastlines()\n",
        "\n",
        "plt.show()"
      ],
      "id": "f2T0q2mNUt_Z"
    },
    {
      "cell_type": "code",
      "execution_count": null,
      "metadata": {
        "id": "aOiqWU0EUt_a"
      },
      "outputs": [],
      "source": [
        "fig = plt.figure(figsize=(15, 10))\n",
        "\n",
        "projection = ccrs.InterruptedGoodeHomolosine(central_longitude=-180)\n",
        "ax = cartoee.get_map(\n",
        "    ocean, vis_params=visualization, region=bbox, cmap='plasma', proj=projection\n",
        ")\n",
        "cb = cartoee.add_colorbar(\n",
        "    ax, vis_params=visualization, loc='bottom', cmap='plasma', orientation='horizontal'\n",
        ")\n",
        "ax.set_title(\"Goode homolosine projection\")\n",
        "ax.coastlines()\n",
        "\n",
        "plt.show()"
      ],
      "id": "aOiqWU0EUt_a"
    },
    {
      "cell_type": "code",
      "execution_count": null,
      "metadata": {
        "id": "1MvktArPUt_a"
      },
      "outputs": [],
      "source": [
        "fig = plt.figure(figsize=(15, 10))\n",
        "\n",
        "projection = ccrs.EqualEarth(central_longitude=-180)\n",
        "ax = cartoee.get_map(\n",
        "    ocean, vis_params=visualization, region=bbox, cmap='plasma', proj=projection\n",
        ")\n",
        "cb = cartoee.add_colorbar(\n",
        "    ax, vis_params=visualization, loc='right', cmap='plasma', orientation='vertical'\n",
        ")\n",
        "ax.set_title(\"Equal Earth projection\")\n",
        "ax.coastlines()\n",
        "\n",
        "plt.show()"
      ],
      "id": "1MvktArPUt_a"
    },
    {
      "cell_type": "code",
      "execution_count": null,
      "metadata": {
        "id": "aKQAz9fcUt_a"
      },
      "outputs": [],
      "source": [
        "fig = plt.figure(figsize=(11, 10))\n",
        "\n",
        "projection = ccrs.Orthographic(-130, -10)\n",
        "ax = cartoee.get_map(\n",
        "    ocean, vis_params=visualization, region=bbox, cmap='plasma', proj=projection\n",
        ")\n",
        "cb = cartoee.add_colorbar(\n",
        "    ax, vis_params=visualization, loc='right', cmap='plasma', orientation='vertical'\n",
        ")\n",
        "ax.set_title(\"Orographic projection\")\n",
        "ax.coastlines()\n",
        "\n",
        "plt.show()"
      ],
      "id": "aKQAz9fcUt_a"
    },
    {
      "cell_type": "markdown",
      "metadata": {
        "id": "QaiTu5eaUt_b"
      },
      "source": [
        "### The warping artifacts"
      ],
      "id": "QaiTu5eaUt_b"
    },
    {
      "cell_type": "code",
      "execution_count": null,
      "metadata": {
        "id": "wgYDflT7Ut_b"
      },
      "outputs": [],
      "source": [
        "fig = plt.figure(figsize=(11, 10))\n",
        "\n",
        "spole = [180, -88, -180, 0]\n",
        "projection = ccrs.SouthPolarStereo()\n",
        "\n",
        "ax = cartoee.get_map(\n",
        "    ocean, cmap='plasma', vis_params=visualization, region=spole, proj=projection\n",
        ")\n",
        "cb = cartoee.add_colorbar(ax, vis_params=visualization, loc='right', cmap='plasma')\n",
        "ax.coastlines()\n",
        "ax.set_title('The South Pole')\n",
        "\n",
        "plt.show()"
      ],
      "id": "wgYDflT7Ut_b"
    },
    {
      "cell_type": "code",
      "execution_count": null,
      "metadata": {
        "id": "qxHKX1SIUt_b"
      },
      "outputs": [],
      "source": [
        "fig = plt.figure(figsize=(11, 10))\n",
        "\n",
        "ax = cartoee.get_map(\n",
        "    ocean, cmap='plasma', vis_params=visualization, region=spole, proj=projection\n",
        ")\n",
        "cb = cartoee.add_colorbar(ax, vis_params=visualization, loc='right', cmap='plasma')\n",
        "ax.coastlines()\n",
        "ax.set_title('The South Pole')\n",
        "\n",
        "# get bounding box coordinates of a zoom area\n",
        "zoom = spole\n",
        "zoom[-1] = -20\n",
        "\n",
        "# convert bbox coordinate from [W,S,E,N] to [W,E,S,N] as matplotlib expects\n",
        "zoom_extent = cartoee.bbox_to_extent(zoom)\n",
        "\n",
        "# set the extent of the map to the zoom area\n",
        "ax.set_extent(zoom_extent, ccrs.PlateCarree())\n",
        "\n",
        "plt.show()"
      ],
      "id": "qxHKX1SIUt_b"
    },
    {
      "cell_type": "markdown",
      "metadata": {
        "id": "abGQyevpUt_b"
      },
      "source": [
        "## Plotting multiple Earth Engine layers\n",
        "\n",
        "### Creating a blended image"
      ],
      "id": "abGQyevpUt_b"
    },
    {
      "cell_type": "code",
      "execution_count": null,
      "metadata": {
        "id": "wuCXUCvPUt_b"
      },
      "outputs": [],
      "source": [
        "Map = geemap.Map()\n",
        "\n",
        "image = (\n",
        "    ee.ImageCollection('MODIS/MCD43A4_006_NDVI')\n",
        "    .filter(ee.Filter.date('2022-05-01', '2022-06-01'))\n",
        "    .select(\"NDVI\")\n",
        "    .first()\n",
        ")\n",
        "\n",
        "vis_params = {'min': 0.0, 'max': 1.0, 'palette': 'ndvi'}\n",
        "Map.setCenter(-7.03125, 31.0529339857, 2)\n",
        "Map.addLayer(image, vis_params, 'MODIS NDVI')\n",
        "\n",
        "countries = ee.FeatureCollection(geemap.examples.get_ee_path('countries'))\n",
        "style = {\"color\": \"00000088\", \"width\": 1, \"fillColor\": \"00000000\"}\n",
        "Map.addLayer(countries.style(**style), {}, \"Countries\")\n",
        "\n",
        "ndvi = image.visualize(**vis_params)\n",
        "blend = ndvi.blend(countries.style(**style))\n",
        "\n",
        "Map.addLayer(blend, {}, \"Blend\")\n",
        "Map"
      ],
      "id": "wuCXUCvPUt_b"
    },
    {
      "cell_type": "markdown",
      "metadata": {
        "id": "Kf1N52zAUt_b"
      },
      "source": [
        "### Plotting a blended image with the default projection"
      ],
      "id": "Kf1N52zAUt_b"
    },
    {
      "cell_type": "code",
      "execution_count": null,
      "metadata": {
        "id": "BER_4yOEUt_b"
      },
      "outputs": [],
      "source": [
        "fig = plt.figure(figsize=(15, 10))\n",
        "\n",
        "bbox = [180, -88, -180, 88]\n",
        "ax = cartoee.get_map(blend, region=bbox)\n",
        "cb = cartoee.add_colorbar(ax, vis_params=vis_params, loc='right')\n",
        "ax.set_title(label='MODIS NDVI (May 2022)', fontsize=15)\n",
        "\n",
        "plt.show()"
      ],
      "id": "BER_4yOEUt_b"
    },
    {
      "cell_type": "markdown",
      "metadata": {
        "id": "b-hIvo4QUt_b"
      },
      "source": [
        "### Plotting a blended image with a custom projection"
      ],
      "id": "b-hIvo4QUt_b"
    },
    {
      "cell_type": "code",
      "execution_count": null,
      "metadata": {
        "id": "Evax6cGxUt_c"
      },
      "outputs": [],
      "source": [
        "import cartopy.crs as ccrs"
      ],
      "id": "Evax6cGxUt_c"
    },
    {
      "cell_type": "code",
      "execution_count": null,
      "metadata": {
        "id": "pOwwcRYDUt_c"
      },
      "outputs": [],
      "source": [
        "fig = plt.figure(figsize=(15, 10))\n",
        "\n",
        "projection = ccrs.EqualEarth(central_longitude=0)\n",
        "ax = cartoee.get_map(blend, region=bbox, proj=projection)\n",
        "cb = cartoee.add_colorbar(ax, vis_params=vis_params, loc='right')\n",
        "ax.set_title(label='MODIS NDVI (May 2022)', fontsize=15)\n",
        "\n",
        "plt.show()"
      ],
      "id": "pOwwcRYDUt_c"
    },
    {
      "cell_type": "markdown",
      "metadata": {
        "id": "y2eMZbLSUt_c"
      },
      "source": [
        "## Creating timelapse animations\n",
        "\n",
        "### Creating an ImageCollection"
      ],
      "id": "y2eMZbLSUt_c"
    },
    {
      "cell_type": "code",
      "execution_count": null,
      "metadata": {
        "id": "qb_tJHfcUt_c"
      },
      "outputs": [],
      "source": [
        "lon = -115.1585\n",
        "lat = 36.1500\n",
        "start_year = 1984\n",
        "end_year = 2011\n",
        "\n",
        "point = ee.Geometry.Point(lon, lat)\n",
        "years = ee.List.sequence(start_year, end_year)\n",
        "\n",
        "def get_best_image(year):\n",
        "\n",
        "    start_date = ee.Date.fromYMD(year, 1, 1)\n",
        "    end_date = ee.Date.fromYMD(year, 12, 31)\n",
        "    image = (\n",
        "        ee.ImageCollection(\"LANDSAT/LT05/C02/T1_L2\")\n",
        "        .filterBounds(point)\n",
        "        .filterDate(start_date, end_date)\n",
        "        .sort(\"CLOUD_COVER\")\n",
        "        .first()\n",
        "    )\n",
        "    image = (\n",
        "        image.select('SR_B.')\n",
        "        .multiply(0.0000275)\n",
        "        .add(-0.2)\n",
        "        .set({'system:time_start': image.get('system:time_start')}))\n",
        "    return ee.Image(image)\n",
        "\n",
        "collection = ee.ImageCollection(years.map(get_best_image))"
      ],
      "id": "qb_tJHfcUt_c"
    },
    {
      "cell_type": "markdown",
      "metadata": {
        "id": "EiDo-X_gUt_d"
      },
      "source": [
        "### Displaying a sample image"
      ],
      "id": "EiDo-X_gUt_d"
    },
    {
      "cell_type": "code",
      "execution_count": null,
      "metadata": {
        "id": "b2CvOW_fUt_d"
      },
      "outputs": [],
      "source": [
        "Map = geemap.Map()\n",
        "\n",
        "vis_params = {\"bands\": ['SR_B5', 'SR_B4', 'SR_B3'], \"min\": 0, \"max\": 0.5}\n",
        "image = ee.Image(collection.first())\n",
        "Map.addLayer(image, vis_params, 'First image')\n",
        "Map.setCenter(lon, lat, 8)\n",
        "\n",
        "Map"
      ],
      "id": "b2CvOW_fUt_d"
    },
    {
      "cell_type": "markdown",
      "metadata": {
        "id": "7NBU3N61Ut_e"
      },
      "source": [
        "### Getting a sample output image"
      ],
      "id": "7NBU3N61Ut_e"
    },
    {
      "cell_type": "code",
      "execution_count": null,
      "metadata": {
        "id": "LVD92FaBUt_f"
      },
      "outputs": [],
      "source": [
        "w = 0.4\n",
        "h = 0.3\n",
        "region = [lon + w, lat - h, lon - w, lat + h]\n",
        "\n",
        "fig = plt.figure(figsize=(10, 8))\n",
        "\n",
        "ax = cartoee.get_map(image, region=region, vis_params=vis_params)\n",
        "cartoee.add_gridlines(ax, interval=[0.2, 0.2], linestyle=\":\")\n",
        "\n",
        "# add north arrow\n",
        "north_arrow_dict = {\n",
        "    \"text\": \"N\",\n",
        "    \"xy\": (0.1, 0.3),\n",
        "    \"arrow_length\": 0.15,\n",
        "    \"text_color\": \"white\",\n",
        "    \"arrow_color\": \"white\",\n",
        "    \"fontsize\": 20,\n",
        "    \"width\": 5,\n",
        "    \"headwidth\": 15,\n",
        "    \"ha\": \"center\",\n",
        "    \"va\": \"center\",\n",
        "}\n",
        "cartoee.add_north_arrow(ax, **north_arrow_dict)\n",
        "\n",
        "# add scale bar\n",
        "scale_bar_dict = {\n",
        "    \"length\": 10,\n",
        "    \"xy\": (0.1, 0.05),\n",
        "    \"linewidth\": 3,\n",
        "    \"fontsize\": 20,\n",
        "    \"color\": \"white\",\n",
        "    \"unit\": \"km\",\n",
        "    \"ha\": \"center\",\n",
        "    \"va\": \"bottom\",\n",
        "}\n",
        "cartoee.add_scale_bar_lite(ax, **scale_bar_dict)\n",
        "ax.set_title(label='Las Vegas, NV', fontsize=15)\n",
        "\n",
        "plt.show()"
      ],
      "id": "LVD92FaBUt_f"
    },
    {
      "cell_type": "markdown",
      "metadata": {
        "id": "eHvJgL9UUt_f"
      },
      "source": [
        "### Creating timelapse"
      ],
      "id": "eHvJgL9UUt_f"
    },
    {
      "cell_type": "code",
      "execution_count": null,
      "metadata": {
        "id": "0PgwqwuTUt_f"
      },
      "outputs": [],
      "source": [
        "cartoee.get_image_collection_gif(\n",
        "    ee_ic=collection,\n",
        "    out_dir='timelapse',\n",
        "    out_gif=\"animation.gif\",\n",
        "    vis_params=vis_params,\n",
        "    region=region,\n",
        "    fps=5,\n",
        "    mp4=True,\n",
        "    grid_interval=(0.2, 0.2),\n",
        "    plot_title=\"Las Vegas, NV - \",\n",
        "    date_format='YYYY',\n",
        "    fig_size=(10, 8),\n",
        "    dpi_plot=100,\n",
        "    file_format=\"jpg\",\n",
        "    north_arrow_dict=north_arrow_dict,\n",
        "    scale_bar_dict=scale_bar_dict,\n",
        "    verbose=True,\n",
        ")\n",
        "geemap.show_image('timelapse/animation.gif')"
      ],
      "id": "0PgwqwuTUt_f"
    },
    {
      "cell_type": "markdown",
      "metadata": {
        "id": "DfGfXMCgUt_g"
      },
      "source": [
        "## Summary"
      ],
      "id": "DfGfXMCgUt_g"
    }
  ],
  "metadata": {
    "kernelspec": {
      "display_name": "Python 3 (ipykernel)",
      "language": "python",
      "name": "python3"
    },
    "colab": {
      "provenance": []
    }
  },
  "nbformat": 4,
  "nbformat_minor": 5
}